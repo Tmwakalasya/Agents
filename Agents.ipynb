{
  "nbformat": 4,
  "nbformat_minor": 0,
  "metadata": {
    "colab": {
      "provenance": [],
      "machine_shape": "hm",
      "gpuType": "V5E1",
      "authorship_tag": "ABX9TyPGwSyCV7wCtQR/QYKOuFcu",
      "include_colab_link": true
    },
    "kernelspec": {
      "name": "python3",
      "display_name": "Python 3"
    },
    "language_info": {
      "name": "python"
    },
    "accelerator": "TPU"
  },
  "cells": [
    {
      "cell_type": "markdown",
      "metadata": {
        "id": "view-in-github",
        "colab_type": "text"
      },
      "source": [
        "<a href=\"https://colab.research.google.com/github/Tmwakalasya/Agents/blob/main/Agents.ipynb\" target=\"_parent\"><img src=\"https://colab.research.google.com/assets/colab-badge.svg\" alt=\"Open In Colab\"/></a>"
      ]
    },
    {
      "cell_type": "markdown",
      "source": [
        "# Shell commands and Dependencies\n"
      ],
      "metadata": {
        "id": "BQwCYRhDtLGd"
      }
    },
    {
      "cell_type": "code",
      "source": [
        "!python venv .venv"
      ],
      "metadata": {
        "id": "pP4UieD5tdmk"
      },
      "execution_count": null,
      "outputs": []
    },
    {
      "cell_type": "code",
      "source": [
        "!pip install google-adk"
      ],
      "metadata": {
        "id": "oALjzfrNti0b"
      },
      "execution_count": null,
      "outputs": []
    },
    {
      "cell_type": "code",
      "metadata": {
        "id": "36c76491"
      },
      "source": [
        "# Create a .env file with some placeholder content\n",
        "with open(\".env\", \"w\") as f:\n",
        "    f.write(\"GOOGLE_GENAI_USE_VERTEXAI=\")\n",
        "    f.write(\"GOOGLE_API_KEY=\")\n",
        "\n",
        "print(\".env file created successfully.\")"
      ],
      "execution_count": null,
      "outputs": []
    },
    {
      "cell_type": "code",
      "source": [
        "import datetime\n",
        "from zoneinfo import ZoneInfo\n",
        "from google.adk.agents import Agent\n",
        "\n",
        "def get_weather(city: str) -> dict:\n",
        "  \"\"\" Retrieves the current weather report for a specified city.\n",
        "  Args:\n",
        "    city: The name of the city for which to retrieve the weather report.\n",
        "  Returns:\n",
        "    A dictionary containing the current weather report for the specified city.\n",
        "  \"\"\"\n",
        "  if city.lower() == \"Arusha\":\n",
        "    return {\n",
        "        \"status\": \"success\",\n",
        "        \"report\": (\"The weather in Arusha, Tanzania sunny with a temperature of 35 degrees\"\n",
        "                  \"Celsius (95 degrees Fahrenheit).\"\n",
        "\n",
        "\n",
        "        ),\n",
        "    }\n",
        "  else:\n",
        "      return {\n",
        "              \"status\": \"error\",\n",
        "              \"message\": f\"Weather information for the requested city {city} not found\",\n",
        "              }\n",
        "def get_current_time(city: str) -> dict:\n",
        "  \"\"\" Retrieves the current time for a specified city.\n",
        "  Args:\n",
        "    city: The name of the city for which to retrieve the current time.\n",
        "  Returns:\n",
        "    A dictionary containing the current time for the specified city.\n",
        "  \"\"\"\n",
        "  if city.lower() == \"Arusha\":\n",
        "    tz = ZoneInfo(\"Africa/Dar_es_Salaam\")\n",
        "    current_time = datetime.datetime.now(tz)\n",
        "    return {\n",
        "        \"status\": \"success\",\n",
        "        \"time\": current_time.strftime(\"%H:%M:%S\"),\n",
        "    }\n",
        "\n",
        "  else:\n",
        "    return {\n",
        "            \"status\": \"error\",\n",
        "            \"message\": f\"Time information for the requested city {city} not found\",\n",
        "          }\n",
        "\n",
        "root_agent = Agent(\n",
        "    name=\"Weather_time_agent\",\n",
        "    model=\"gemini-2.0-flash\",\n",
        "    description=(\"This agent is built to answer questions about time and weather in a city\"\n",
        "    ),\n",
        "    instruction=(\"You are a helpful assistant to answer questions about time and weather in a city.\"\n",
        "    ),\n",
        "    tools=[get_weather, get_current_time]\n",
        ")\n",
        "\n",
        "\n",
        "\n"
      ],
      "metadata": {
        "id": "J2N8prCVt8Ez"
      },
      "execution_count": null,
      "outputs": []
    },
    {
      "cell_type": "code",
      "metadata": {
        "colab": {
          "base_uri": "https://localhost:8080/"
        },
        "id": "e28727ff",
        "outputId": "3bfb76a5-6769-4bb8-d836-aff557f92f47"
      },
      "source": [
        "!adk web"
      ],
      "execution_count": null,
      "outputs": [
        {
          "metadata": {
            "tags": null
          },
          "name": "stdout",
          "output_type": "stream",
          "text": [
            "/usr/local/lib/python3.12/dist-packages/google/adk/cli/fast_api.py:175: UserWarning: [EXPERIMENTAL] InMemoryCredentialService: This feature is experimental and may change or be removed in future versions without notice. It may introduce breaking changes at any time.\n",
            "  credential_service = InMemoryCredentialService()\n",
            "/usr/local/lib/python3.12/dist-packages/google/adk/auth/credential_service/in_memory_credential_service.py:33: UserWarning: [EXPERIMENTAL] BaseCredentialService: This feature is experimental and may change or be removed in future versions without notice. It may introduce breaking changes at any time.\n",
            "  super().__init__()\n",
            "\u001b[32mINFO\u001b[0m:     Started server process [\u001b[36m16677\u001b[0m]\n",
            "\u001b[32mINFO\u001b[0m:     Waiting for application startup.\n",
            "\u001b[32m\n",
            "+-----------------------------------------------------------------------------+\n",
            "| ADK Web Server started                                                      |\n",
            "|                                                                             |\n",
            "| For local testing, access at http://127.0.0.1:8000.                         |\n",
            "+-----------------------------------------------------------------------------+\n",
            "\u001b[0m\n",
            "\u001b[32mINFO\u001b[0m:     Application startup complete.\n",
            "\u001b[32mINFO\u001b[0m:     Uvicorn running on \u001b[1mhttp://127.0.0.1:8000\u001b[0m (Press CTRL+C to quit)\n"
          ]
        }
      ]
    }
  ]
}